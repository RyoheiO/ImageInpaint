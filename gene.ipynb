{
 "cells": [
  {
   "cell_type": "code",
   "execution_count": 1,
   "metadata": {},
   "outputs": [],
   "source": [
    "import numpy as np\n",
    "from PIL import Image\n",
    "from matplotlib import pyplot as plt\n",
    "from scipy import stats\n",
    "import cv2 "
   ]
  },
  {
   "cell_type": "code",
   "execution_count": 2,
   "metadata": {},
   "outputs": [],
   "source": [
    "#乱数の固定\n",
    "np.random.seed(seed=1)"
   ]
  },
  {
   "cell_type": "code",
   "execution_count": 3,
   "metadata": {},
   "outputs": [],
   "source": [
    "#定数\n",
    "##画像のサイズ\n",
    "height=200\n",
    "width=200\n",
    "##状態数\n",
    "S1=2\n",
    "S2=2\n",
    "##カラー画像\n",
    "D=3"
   ]
  },
  {
   "cell_type": "code",
   "execution_count": 4,
   "metadata": {},
   "outputs": [],
   "source": [
    "# \\mu \\Lambdaのハイパーパラメーター\n",
    "M = np.zeros((S1,S2,D))\n",
    "M[0,0,:]=np.array([0.0,0.0,250.0])\n",
    "M[0,1,:]=np.array([0.0,250.0,0.0])\n",
    "M[1,0,:]=np.array([250.0,0.0,0.0])\n",
    "M[1,1,:]=np.array([0.0,0.0,0.0])\n",
    "BETA = np.ones((S1,S2))/10000\n",
    "W= np.zeros((S1,S2,D,D))\n",
    "for s1 in range(S1):\n",
    "    for s2 in range(S2):\n",
    "        W[s1,s2,:,:]=np.identity(D)\n",
    "NU = np.ones((S1,S2))*3\n",
    "#\\pi のハイパーパラメーター\n",
    "ETA1 = np.array([0.3,0.7])\n",
    "ETA2 = np.array([0.7,0.3])\n",
    "# Aのハイパーパラメーター\n",
    "EPSILON1 = np.array([[1,1],[1,1]])\n",
    "EPSILON2 = np.array([[1,1],[1,1]])"
   ]
  },
  {
   "cell_type": "code",
   "execution_count": 5,
   "metadata": {},
   "outputs": [],
   "source": [
    "#画像生成(拡張分離型格子隠れマルコフモデル)\n",
    "class product:\n",
    "    def __init__(self):\n",
    "        #パラメーター\n",
    "        ##出力\n",
    "        self.mu = np.zeros((S1,S2,D))\n",
    "        self.lam = np.zeros((S1,S2,D,D))\n",
    "        ##初期状態確率\n",
    "        self.pi1 = np.zeros((S1))\n",
    "        self.pi2 = np.zeros((S2))\n",
    "        ##遷移確率\n",
    "        self.a1 = np.zeros((S1,S1))\n",
    "        self.a2 = np.zeros((S2,S2))\n",
    "        ##状態\n",
    "        self.s1 = np.zeros((height,width),int)\n",
    "        self.s2 = np.zeros((height,width),int)\n",
    "        \n",
    "    #\\theta=\\{\\mu \\lamda \\pi \\a \\}\n",
    "    def theta(self):\n",
    "        self.pi1=np.random.dirichlet(ETA1)\n",
    "        self.pi2=np.random.dirichlet(ETA2)\n",
    "        \n",
    "        for s1 in range(S1):\n",
    "            self.a1[s1]=np.random.dirichlet(EPSILON1[s1])\n",
    "        for s2 in range(S2):\n",
    "            self.a2[s2]=np.random.dirichlet(EPSILON2[s2])\n",
    "        \n",
    "        for s1 in range(S1):\n",
    "            for s2 in range(S2):\n",
    "                self.lam[s1,s2,:,:]=stats.wishart(df=NU[s1,s2],scale=W[s1,s2,:,:]).rvs(1)\n",
    "                self.mu[s1,s2,:]=np.random.multivariate_normal(M[s1,s2,:],np.linalg.inv(BETA[s1,s2]*self.lam[s1,s2,:,:]))\n",
    "\n",
    "    #S^(1)\n",
    "    def S1(self):\n",
    "        for i in range(0,height):\n",
    "            for j in range(0,width):\n",
    "                if(j==0):\n",
    "                    self.s1[i,j]=np.random.choice(S1,p=self.pi1)\n",
    "                else:\n",
    "                    self.s1[i,j]=np.random.choice(S1,p=self.a1[self.s1[i,j-1]])\n",
    "\n",
    "    #S^(2)\n",
    "    def S2(self):\n",
    "        for j in range(0,width):\n",
    "            for i in range(0,height):\n",
    "                if(i==0):\n",
    "                    self.s2[i,j]=np.random.choice(S2,p=self.pi2)\n",
    "                else:\n",
    "                    self.s2[i,j]=np.random.choice(S2,p=self.a2[self.s2[i-1,j]])\n",
    "    #画像生成\n",
    "    def image_produce(self):\n",
    "        self.theta()\n",
    "        self.S1()\n",
    "        self.S2()\n",
    "        self.image=np.zeros((height,width,D))\n",
    "        for i in range(0,height):\n",
    "            for j in range(0,width):\n",
    "                self.image[i,j,:]=np.random.multivariate_normal(self.mu[self.s1[i,j],self.s2[i,j],:],np.linalg.inv(self.lam[self.s1[i,j],self.s2[i,j],:,:]))\n",
    "        \n",
    "        self.image[self.image>255.0]=255.0\n",
    "        self.image[self.image<0.0]=0.0\n",
    "        self.image=(self.image).astype(np.uint8)\n",
    "         \n",
    "        plt.imshow(self.image,vmin=0,vmax=255)\n",
    "        plt.show()\n",
    "        #74"
   ]
  },
  {
   "cell_type": "code",
   "execution_count": 6,
   "metadata": {},
   "outputs": [],
   "source": [
    "model=product()"
   ]
  },
  {
   "cell_type": "code",
   "execution_count": 7,
   "metadata": {},
   "outputs": [
    {
     "data": {
      "image/png": "[encoded data removed]",
      "text/plain": [
       "<Figure size 432x288 with 1 Axes>"
      ]
     },
     "metadata": {
      "needs_background": "light"
     },
     "output_type": "display_data"
    }
   ],
   "source": [
    "model.image_produce()"
   ]
  },
  {
   "cell_type": "code",
   "execution_count": 35,
   "metadata": {},
   "outputs": [
    {
     "data": {
      "text/plain": [
       "True"
      ]
     },
     "execution_count": 35,
     "metadata": {},
     "output_type": "execute_result"
    }
   ],
   "source": [
    "cv2.imwrite(\"gene2.png\",model.image)     "
   ]
  },
  {
   "cell_type": "code",
   "execution_count": 36,
   "metadata": {},
   "outputs": [],
   "source": [
    "im=np.array(Image.open('gene2.png'))\n",
    "im=im[:,:,::-1]\n",
    "pil_img = Image.fromarray(im)\n",
    "pil_img.save('gene2.png')"
   ]
  }
 ],
 "metadata": {
  "kernelspec": {
   "display_name": "Python 3",
   "language": "python",
   "name": "python3"
  },
  "language_info": {
   "codemirror_mode": {
    "name": "ipython",
    "version": 3
   },
   "file_extension": ".py",
   "mimetype": "text/x-python",
   "name": "python",
   "nbconvert_exporter": "python",
   "pygments_lexer": "ipython3",
   "version": "3.7.3"
  }
 },
 "nbformat": 4,
 "nbformat_minor": 2
}
